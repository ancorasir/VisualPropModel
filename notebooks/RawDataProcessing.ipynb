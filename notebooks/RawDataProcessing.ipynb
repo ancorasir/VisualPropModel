{
 "cells": [
  {
   "cell_type": "code",
   "execution_count": 1,
   "metadata": {},
   "outputs": [],
   "source": [
    "import rootutils\n",
    "import os\n",
    "import numpy as np\n",
    "import pandas as pd\n",
    "import matplotlib.pyplot as plt\n",
    "from scipy.spatial.transform import Rotation as R\n",
    "import cv2"
   ]
  },
  {
   "cell_type": "code",
   "execution_count": 2,
   "metadata": {},
   "outputs": [],
   "source": [
    "PROJECT_ROOT_DIR = rootutils.find_root(search_from=os.path.abspath(''), indicator=\".project-root\")\n",
    "PROJECT_DATA_DIR = str(PROJECT_ROOT_DIR) + '/data/'"
   ]
  },
  {
   "cell_type": "code",
   "execution_count": 3,
   "metadata": {},
   "outputs": [
    {
     "name": "stdout",
     "output_type": "stream",
     "text": [
      "Files and Directories in '/home/ghost/Documents/WorkSpace/&HXD/Trainning/VisualPropModel/data/raw':\n"
     ]
    }
   ],
   "source": [
    "path = PROJECT_DATA_DIR + 'raw'\n",
    "\n",
    "obj = os.scandir(path=path)\n",
    "\n",
    "result_entry = []\n",
    "\n",
    "# List all files and directories in the specified path\n",
    "print(\"Files and Directories in '% s':\" % path)\n",
    "for entry in obj:\n",
    "    if entry.is_dir() or entry.is_file() and entry.name.endswith('.yml'):\n",
    "        result_entry.append(entry.path)"
   ]
  },
  {
   "cell_type": "markdown",
   "metadata": {},
   "source": [
    "## Generate Trainning Data\n",
    "#### Input: 3 Markers' Poses\n",
    "#### Output: Contact Position"
   ]
  },
  {
   "cell_type": "code",
   "execution_count": 4,
   "metadata": {},
   "outputs": [],
   "source": [
    "trainingData = np.array([])\n",
    "for number in range(len(result_entry)):\n",
    "    file_str = result_entry[number]\n",
    "    # print(file_str)   \n",
    "    f = cv2.FileStorage(file_str,cv2.FILE_STORAGE_READ)\n",
    "    num_data = int(f.getNode(\"number_of_points\").real())\n",
    "    gt_point = np.array([])\n",
    "    bc_top = np.array([])\n",
    "    bc_bot1 = np.array([])\n",
    "    bc_bot2 = np.array([])\n",
    "\n",
    "    a = f.getNode(\"points\")\n",
    "    for index in range(num_data):\n",
    "        gt = np.array([a.at(index).getNode('gt_point').at(0).real(),\n",
    "                       a.at(index).getNode('gt_point').at(1).real(),\n",
    "                       a.at(index).getNode('gt_point').at(2).real()])\n",
    "        \n",
    "        eulerAng1 = R.from_quat([a.at(index).getNode('bc_top').at(3).real(),\n",
    "                                a.at(index).getNode('bc_top').at(4).real(),\n",
    "                                a.at(index).getNode('bc_top').at(5).real(),\n",
    "                                a.at(index).getNode('bc_top').at(6).real()]).as_euler('xyz', degrees=True)\n",
    "\n",
    "        eulerAng2 = R.from_quat([a.at(index).getNode('bc_bot1').at(3).real(),\n",
    "                                 a.at(index).getNode('bc_bot1').at(4).real(),\n",
    "                                 a.at(index).getNode('bc_bot1').at(5).real(),\n",
    "                                 a.at(index).getNode('bc_bot1').at(6).real()]).as_euler('xyz', degrees=True)\n",
    "        \n",
    "        eulerAng3 = R.from_quat([a.at(index).getNode('bc_bot2').at(3).real(),\n",
    "                                 a.at(index).getNode('bc_bot2').at(4).real(),\n",
    "                                 a.at(index).getNode('bc_bot2').at(5).real(),\n",
    "                                 a.at(index).getNode('bc_bot2').at(6).real()]).as_euler('xyz', degrees=True)\n",
    "\n",
    "        top = np.array([a.at(index).getNode('bc_top').at(0).real(),\n",
    "                        a.at(index).getNode('bc_top').at(1).real(),\n",
    "                        a.at(index).getNode('bc_top').at(2).real(),\n",
    "                        eulerAng1[0],\n",
    "                        eulerAng1[1],\n",
    "                        eulerAng1[2]])\n",
    "\n",
    "        bot1 = np.array([a.at(index).getNode('bc_bot1').at(0).real(),\n",
    "                         a.at(index).getNode('bc_bot1').at(1).real(),\n",
    "                         a.at(index).getNode('bc_bot1').at(2).real(),\n",
    "                         eulerAng2[0],\n",
    "                         eulerAng2[1],\n",
    "                         eulerAng2[2]])\n",
    "                    \n",
    "        bot2 = np.array([a.at(index).getNode('bc_bot2').at(0).real(),\n",
    "                         a.at(index).getNode('bc_bot2').at(1).real(),\n",
    "                         a.at(index).getNode('bc_bot2').at(2).real(),\n",
    "                         eulerAng3[0],\n",
    "                         eulerAng3[1],\n",
    "                         eulerAng3[2]])\n",
    "        if index == 0:\n",
    "            gt_point = gt.reshape(1,3)\n",
    "            bc_top = top.reshape(1,6)\n",
    "            bc_bot1 = bot1.reshape(1,6)\n",
    "            bc_bot2 = bot2.reshape(1,6)\n",
    "            \n",
    "        else:\n",
    "            gt_point = np.concatenate((gt_point,gt.reshape(1,3)),axis=0)\n",
    "            bc_top = np.concatenate((bc_top,top.reshape(1,6)),axis=0)\n",
    "            bc_bot1 = np.concatenate((bc_bot1,bot1.reshape(1,6)),axis=0)\n",
    "            bc_bot2 = np.concatenate((bc_bot2,bot2.reshape(1,6)),axis=0)\n",
    "\n",
    "    gt_point = np.array(gt_point)\n",
    "    bc_top = np.array(bc_top)\n",
    "    bc_bot1 = np.array(bc_bot1)\n",
    "    bc_bot2 = np.array(bc_bot2)\n",
    "\n",
    "    # print(gt_point.shape)\n",
    "\n",
    "    stop = 300\n",
    "\n",
    "    sub_gt_point = gt_point[0:stop]\n",
    "    sub_bc_top = bc_top[0:stop]\n",
    "    sub_bc_bot1 = bc_bot1[0:stop]\n",
    "    sub_bc_bot2= bc_bot2[0:stop]\n",
    "\n",
    "    data = np.concatenate((sub_bc_top,sub_bc_bot1,sub_bc_bot2, sub_gt_point),axis=1)\n",
    "    if number == 0:\n",
    "        trainingData = data\n",
    "    else:\n",
    "        trainingData = np.concatenate((trainingData,data),axis=0)\n",
    "\n",
    "np.save(PROJECT_DATA_DIR + 'bc_3_trainingData.npy',trainingData)"
   ]
  },
  {
   "cell_type": "markdown",
   "metadata": {},
   "source": [
    "## Generate Trainning Data\n",
    "#### Input: 2 Markers' Poses\n",
    "#### Output: Contact Position"
   ]
  },
  {
   "cell_type": "code",
   "execution_count": 5,
   "metadata": {},
   "outputs": [],
   "source": [
    "trainingData = np.array([])\n",
    "for number in range(len(result_entry)):\n",
    "    file_str = result_entry[number]\n",
    "    f = cv2.FileStorage(file_str,cv2.FILE_STORAGE_READ)\n",
    "    num_data = int(f.getNode(\"number_of_points\").real())\n",
    "    gt_point = np.array([])\n",
    "    bc_bot1 = np.array([])\n",
    "    bc_bot2 = np.array([])\n",
    "\n",
    "    a = f.getNode(\"points\")\n",
    "    for index in range(num_data):\n",
    "        gt = np.array([a.at(index).getNode('gt_point').at(0).real(),\n",
    "                       a.at(index).getNode('gt_point').at(1).real(),\n",
    "                       a.at(index).getNode('gt_point').at(2).real()])\n",
    "        \n",
    "        eulerAng2 = R.from_quat([a.at(index).getNode('bc_bot1').at(3).real(),\n",
    "                                 a.at(index).getNode('bc_bot1').at(4).real(),\n",
    "                                 a.at(index).getNode('bc_bot1').at(5).real(),\n",
    "                                 a.at(index).getNode('bc_bot1').at(6).real()]).as_euler('xyz', degrees=True)\n",
    "        \n",
    "        eulerAng3 = R.from_quat([a.at(index).getNode('bc_bot2').at(3).real(),\n",
    "                                 a.at(index).getNode('bc_bot2').at(4).real(),\n",
    "                                 a.at(index).getNode('bc_bot2').at(5).real(),\n",
    "                                 a.at(index).getNode('bc_bot2').at(6).real()]).as_euler('xyz', degrees=True)\n",
    "\n",
    "        bot1 = np.array([a.at(index).getNode('bc_bot1').at(0).real(),\n",
    "                         a.at(index).getNode('bc_bot1').at(1).real(),\n",
    "                         a.at(index).getNode('bc_bot1').at(2).real(),\n",
    "                         eulerAng2[0],\n",
    "                         eulerAng2[1],\n",
    "                         eulerAng2[2]])\n",
    "                    \n",
    "        bot2 = np.array([a.at(index).getNode('bc_bot2').at(0).real(),\n",
    "                         a.at(index).getNode('bc_bot2').at(1).real(),\n",
    "                         a.at(index).getNode('bc_bot2').at(2).real(),\n",
    "                         eulerAng3[0],\n",
    "                         eulerAng3[1],\n",
    "                         eulerAng3[2]])\n",
    "        if index == 0:\n",
    "            gt_point = gt.reshape(1,3)\n",
    "            bc_bot1 = bot1.reshape(1,6)\n",
    "            bc_bot2 = bot2.reshape(1,6)\n",
    "            \n",
    "        else:\n",
    "            gt_point = np.concatenate((gt_point,gt.reshape(1,3)),axis=0)\n",
    "            bc_bot1 = np.concatenate((bc_bot1,bot1.reshape(1,6)),axis=0)\n",
    "            bc_bot2 = np.concatenate((bc_bot2,bot2.reshape(1,6)),axis=0)\n",
    "\n",
    "    gt_point = np.array(gt_point)\n",
    "    bc_bot1 = np.array(bc_bot1)\n",
    "    bc_bot2 = np.array(bc_bot2)\n",
    "\n",
    "\n",
    "    stop = 300\n",
    "\n",
    "    sub_gt_point = gt_point[0:stop]\n",
    "    sub_bc_bot1 = bc_bot1[0:stop]\n",
    "    sub_bc_bot2= bc_bot2[0:stop]\n",
    "\n",
    "    data = np.concatenate((sub_bc_bot1,sub_bc_bot2, sub_gt_point),axis=1)\n",
    "    if number == 0:\n",
    "        trainingData = data\n",
    "    else:\n",
    "        trainingData = np.concatenate((trainingData,data),axis=0)\n",
    "\n",
    "np.save(PROJECT_DATA_DIR + 'bc_2_trainingData.npy',trainingData)"
   ]
  },
  {
   "cell_type": "code",
   "execution_count": 6,
   "metadata": {},
   "outputs": [],
   "source": [
    "data_path: str = PROJECT_DATA_DIR + 'bc_3_trainingData.npy'\n",
    "data = np.load(data_path)\n"
   ]
  },
  {
   "cell_type": "code",
   "execution_count": 8,
   "metadata": {},
   "outputs": [
    {
     "data": {
      "text/plain": [
       "(40477, 21)"
      ]
     },
     "execution_count": 8,
     "metadata": {},
     "output_type": "execute_result"
    }
   ],
   "source": [
    "data.shape"
   ]
  },
  {
   "cell_type": "code",
   "execution_count": 9,
   "metadata": {},
   "outputs": [],
   "source": [
    "data_input = data[0,:]"
   ]
  },
  {
   "cell_type": "code",
   "execution_count": 10,
   "metadata": {},
   "outputs": [
    {
     "name": "stdout",
     "output_type": "stream",
     "text": [
      "[ 1.71083605e+00  3.67891520e-01  1.52066350e-02  2.34989235e+00\n",
      "  6.35511935e-01  9.99698637e-01  1.71083605e+00  3.67891520e-01\n",
      "  1.52066350e-02  2.34989235e+00  6.35511935e-01  9.99698637e-01\n",
      "  1.71083605e+00  3.67891520e-01  1.52066350e-02  2.34989235e+00\n",
      "  6.35511935e-01  9.99698637e-01  1.30348873e+01  7.16708755e+01\n",
      " -1.12086630e+01]\n"
     ]
    }
   ],
   "source": [
    "print(data[0,:])"
   ]
  },
  {
   "cell_type": "code",
   "execution_count": 24,
   "metadata": {},
   "outputs": [
    {
     "name": "stdout",
     "output_type": "stream",
     "text": [
      "[1.71083605 0.36789152 0.01520663 2.34989235 0.63551193 0.99969864\n",
      " 1.71083605 0.36789152 0.01520663 2.34989235 0.63551193 0.99969864\n",
      " 1.71083605 0.36789152 0.01520663 2.34989235 0.63551193 0.99969864]\n"
     ]
    }
   ],
   "source": [
    "print(data[0,0 : -3])"
   ]
  },
  {
   "cell_type": "code",
   "execution_count": 27,
   "metadata": {},
   "outputs": [
    {
     "name": "stdout",
     "output_type": "stream",
     "text": [
      "[ 13.03488731  71.67087555 -11.20866299]\n"
     ]
    }
   ],
   "source": [
    "print(data[0, -3 : len(data[0,])])"
   ]
  }
 ],
 "metadata": {
  "kernelspec": {
   "display_name": "softneck",
   "language": "python",
   "name": "python3"
  },
  "language_info": {
   "codemirror_mode": {
    "name": "ipython",
    "version": 3
   },
   "file_extension": ".py",
   "mimetype": "text/x-python",
   "name": "python",
   "nbconvert_exporter": "python",
   "pygments_lexer": "ipython3",
   "version": "3.11.5"
  }
 },
 "nbformat": 4,
 "nbformat_minor": 2
}
